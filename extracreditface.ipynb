{
  "nbformat": 4,
  "nbformat_minor": 0,
  "metadata": {
    "colab": {
      "provenance": [],
      "gpuType": "T4"
    },
    "kernelspec": {
      "name": "python3",
      "display_name": "Python 3"
    },
    "language_info": {
      "name": "python"
    },
    "accelerator": "GPU"
  },
  "cells": [
    {
      "cell_type": "code",
      "source": [
        "!pip install face_recognition\n",
        "!pip install opencv-python\n"
      ],
      "metadata": {
        "colab": {
          "base_uri": "https://localhost:8080/"
        },
        "id": "ePYsv6iWmm28",
        "outputId": "2d06e55b-3b31-4f3b-dc8c-6ecae94bd27f"
      },
      "execution_count": 9,
      "outputs": [
        {
          "output_type": "stream",
          "name": "stdout",
          "text": [
            "Requirement already satisfied: face_recognition in /usr/local/lib/python3.10/dist-packages (1.3.0)\n",
            "Requirement already satisfied: face-recognition-models>=0.3.0 in /usr/local/lib/python3.10/dist-packages (from face_recognition) (0.3.0)\n",
            "Requirement already satisfied: Click>=6.0 in /usr/local/lib/python3.10/dist-packages (from face_recognition) (8.1.7)\n",
            "Requirement already satisfied: dlib>=19.7 in /usr/local/lib/python3.10/dist-packages (from face_recognition) (19.24.2)\n",
            "Requirement already satisfied: numpy in /usr/local/lib/python3.10/dist-packages (from face_recognition) (1.26.4)\n",
            "Requirement already satisfied: Pillow in /usr/local/lib/python3.10/dist-packages (from face_recognition) (10.4.0)\n",
            "Requirement already satisfied: opencv-python in /usr/local/lib/python3.10/dist-packages (4.10.0.84)\n",
            "Requirement already satisfied: numpy>=1.21.2 in /usr/local/lib/python3.10/dist-packages (from opencv-python) (1.26.4)\n"
          ]
        }
      ]
    },
    {
      "cell_type": "code",
      "source": [
        "import face_recognition\n",
        "import cv2\n",
        "import numpy as np\n",
        "import os\n",
        "from google.colab.patches import cv2_imshow\n",
        "from google.colab import drive\n"
      ],
      "metadata": {
        "id": "-dJtTe2Ampj2"
      },
      "execution_count": 10,
      "outputs": []
    },
    {
      "cell_type": "code",
      "source": [
        "drive.mount('/content/drive')\n"
      ],
      "metadata": {
        "colab": {
          "base_uri": "https://localhost:8080/"
        },
        "id": "A1JACh6Hmra_",
        "outputId": "b213b715-6ae0-4165-fbea-776d13f9f32b"
      },
      "execution_count": 11,
      "outputs": [
        {
          "output_type": "stream",
          "name": "stdout",
          "text": [
            "Drive already mounted at /content/drive; to attempt to forcibly remount, call drive.mount(\"/content/drive\", force_remount=True).\n"
          ]
        }
      ]
    },
    {
      "cell_type": "code",
      "source": [
        "known_folder = '/content/drive/My Drive/known'\n",
        "unknown_folder = '/content/drive/My Drive/unknown'\n"
      ],
      "metadata": {
        "id": "pD8IoWL_nNJt"
      },
      "execution_count": 12,
      "outputs": []
    },
    {
      "cell_type": "code",
      "source": [
        "known_encodings = []\n",
        "known_names = []\n",
        "\n",
        "for filename in os.listdir(known_folder):\n",
        "    if filename.endswith(\".jpg\") or filename.endswith(\".png\"):\n",
        "        image = face_recognition.load_image_file(os.path.join(known_folder, filename))\n",
        "        encoding = face_recognition.face_encodings(image)[0]\n",
        "        known_encodings.append(encoding)\n",
        "        known_names.append(os.path.splitext(filename)[0])\n"
      ],
      "metadata": {
        "id": "90xnJGwgnPm8"
      },
      "execution_count": 13,
      "outputs": []
    },
    {
      "cell_type": "code",
      "source": [
        "identified_images = []\n",
        "missing_people = []\n",
        "unidentified_images = []\n"
      ],
      "metadata": {
        "id": "OleKg8J4ncnV"
      },
      "execution_count": 14,
      "outputs": []
    },
    {
      "cell_type": "code",
      "source": [
        "for filename in os.listdir(unknown_folder):\n",
        "    if filename.endswith(\".jpg\") or filename.endswith(\".png\"):\n",
        "        unknown_image = face_recognition.load_image_file(os.path.join(unknown_folder, filename))\n",
        "        unknown_encodings = face_recognition.face_encodings(unknown_image)\n",
        "\n",
        "        if len(unknown_encodings) > 0:\n",
        "            for unknown_encoding in unknown_encodings:\n",
        "                results = face_recognition.compare_faces(known_encodings, unknown_encoding)\n",
        "                name = \"Unknown\"\n",
        "\n",
        "\n",
        "                for i in range(len(results)):\n",
        "                    if results[i]:\n",
        "                        name = known_names[i]\n",
        "                        break\n",
        "\n",
        "                identified_images.append((filename, name))\n",
        "        else:\n",
        "            unidentified_images.append(filename)\n"
      ],
      "metadata": {
        "id": "MmqHlD8xneAY"
      },
      "execution_count": 15,
      "outputs": []
    },
    {
      "cell_type": "code",
      "source": [
        "identified_names = [name for filename, name in identified_images]\n",
        "missing_people = [name for name in known_names if name not in identified_names]\n"
      ],
      "metadata": {
        "id": "G-pBban9nhzV"
      },
      "execution_count": 16,
      "outputs": []
    },
    {
      "cell_type": "code",
      "source": [
        "\n",
        "for filename, name in identified_images:\n",
        "    print(f\"Identified: {name} in {filename}\")\n",
        "\n",
        "\n",
        "print(\"The following are unidentified images:\")\n",
        "for img in unidentified_images:\n",
        "    print(img)\n",
        "\n",
        "\n",
        "print(\"The following people are missing:\")\n",
        "for person in missing_people:\n",
        "    print(person)\n"
      ],
      "metadata": {
        "colab": {
          "base_uri": "https://localhost:8080/"
        },
        "id": "eFGXi34Lnjjp",
        "outputId": "e501cb10-14e6-4672-96f0-b082a5491040"
      },
      "execution_count": 17,
      "outputs": [
        {
          "output_type": "stream",
          "name": "stdout",
          "text": [
            "Identified: Adam Sandler in Adam_Sandler_0004.jpg\n",
            "Identified: Ben Affleck in Ben_Affleck_0007.jpg\n",
            "Identified: Unknown in Adam_Scott_0002.jpg\n",
            "Identified: Aaron Peirsol in Aaron_Peirsol_0003.jpg\n",
            "Identified: Unknown in Zydrunas_Ilgauskas_0001.jpg\n",
            "The following are unidentified images:\n",
            "The following people are missing:\n",
            "Mike Pence\n",
            "Donald Trump\n",
            "Adam Scott\n"
          ]
        }
      ]
    }
  ]
}